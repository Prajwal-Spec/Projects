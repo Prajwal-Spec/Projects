{
 "cells": [
  {
   "cell_type": "code",
   "execution_count": 1,
   "id": "0e0bb790-c0a2-4b14-a84b-c07aae5290f0",
   "metadata": {},
   "outputs": [],
   "source": [
    "# Import libraries for data manipulation and visualization\n",
    "import pandas as pd\n",
    "import numpy as np\n",
    "import matplotlib.pyplot as plt\n",
    "import seaborn as sns\n",
    "\n",
    "# Import Scikit-learn tool for preprocessing, clustering and evaluation\n",
    "from sklearn.preprocessing import StandardScaler, OneHotEncoder\n",
    "from sklearn.cluster import KMeans\n",
    "from sklearn.metrics import silhouette_score\n",
    "from sklearn.compose import ColumnTransformer\n",
    "from sklearn.pipeline import Pipeline"
   ]
  },
  {
   "cell_type": "code",
   "execution_count": 2,
   "id": "f27948b2-ea90-4211-a9cb-bde327b26642",
   "metadata": {},
   "outputs": [],
   "source": [
    "# Load the entire dataset as a single column 1st, from the excel file\n",
    "file_path = 'Fashion Customer Segment.xlsx'\n",
    "df_raw = pd.read_excel(file_path, header=None)"
   ]
  },
  {
   "cell_type": "code",
   "execution_count": 3,
   "id": "330e6868-0da5-459a-8bdd-bf1ce042ac9a",
   "metadata": {},
   "outputs": [],
   "source": [
    "# Split the single column by commas to separate columns\n",
    "df_split = df_raw[0].str.split(',', expand=True)"
   ]
  },
  {
   "cell_type": "code",
   "execution_count": 4,
   "id": "de038321-7300-4f21-a4d3-58c04d747620",
   "metadata": {},
   "outputs": [],
   "source": [
    "# Assign proper column names to the split columns\n",
    "col_names = ['Customer ID', 'Age', 'Gender', 'Purchase History', 'Browsing Behavior', 'Country', 'Last Purchased Item', 'Last Purchased Year']\n",
    "df_split.columns = col_names"
   ]
  },
  {
   "cell_type": "code",
   "execution_count": 5,
   "id": "88d807cc-89ff-4b81-8dcf-9ae3dc04baad",
   "metadata": {
    "scrolled": true
   },
   "outputs": [
    {
     "data": {
      "text/html": [
       "<div>\n",
       "<style scoped>\n",
       "    .dataframe tbody tr th:only-of-type {\n",
       "        vertical-align: middle;\n",
       "    }\n",
       "\n",
       "    .dataframe tbody tr th {\n",
       "        vertical-align: top;\n",
       "    }\n",
       "\n",
       "    .dataframe thead th {\n",
       "        text-align: right;\n",
       "    }\n",
       "</style>\n",
       "<table border=\"1\" class=\"dataframe\">\n",
       "  <thead>\n",
       "    <tr style=\"text-align: right;\">\n",
       "      <th></th>\n",
       "      <th>Customer ID</th>\n",
       "      <th>Age</th>\n",
       "      <th>Gender</th>\n",
       "      <th>Purchase History</th>\n",
       "      <th>Browsing Behavior</th>\n",
       "      <th>Country</th>\n",
       "      <th>Last Purchased Item</th>\n",
       "      <th>Last Purchased Year</th>\n",
       "    </tr>\n",
       "  </thead>\n",
       "  <tbody>\n",
       "    <tr>\n",
       "      <th>0</th>\n",
       "      <td>Customer ID</td>\n",
       "      <td>Age</td>\n",
       "      <td>Gender</td>\n",
       "      <td>Purchase History</td>\n",
       "      <td>Browsing Behavior</td>\n",
       "      <td>Country</td>\n",
       "      <td>Last Purchased Item</td>\n",
       "      <td>Last Purchased Year</td>\n",
       "    </tr>\n",
       "    <tr>\n",
       "      <th>1</th>\n",
       "      <td>1</td>\n",
       "      <td>35</td>\n",
       "      <td>Male</td>\n",
       "      <td>High</td>\n",
       "      <td>Fashion Blogs</td>\n",
       "      <td>USA</td>\n",
       "      <td>T-shirt</td>\n",
       "      <td>2023</td>\n",
       "    </tr>\n",
       "    <tr>\n",
       "      <th>2</th>\n",
       "      <td>2</td>\n",
       "      <td>28</td>\n",
       "      <td>Female</td>\n",
       "      <td>Low</td>\n",
       "      <td>Online Shopping Websites</td>\n",
       "      <td>UK</td>\n",
       "      <td>Jeans</td>\n",
       "      <td>2022</td>\n",
       "    </tr>\n",
       "    <tr>\n",
       "      <th>3</th>\n",
       "      <td>3</td>\n",
       "      <td>45</td>\n",
       "      <td>Male</td>\n",
       "      <td>Medium</td>\n",
       "      <td>Social Media</td>\n",
       "      <td>France</td>\n",
       "      <td>Dress</td>\n",
       "      <td>2023</td>\n",
       "    </tr>\n",
       "    <tr>\n",
       "      <th>4</th>\n",
       "      <td>4</td>\n",
       "      <td>22</td>\n",
       "      <td>Female</td>\n",
       "      <td>High</td>\n",
       "      <td>Fashion Blogs</td>\n",
       "      <td>Germany</td>\n",
       "      <td>Shoes</td>\n",
       "      <td>2023</td>\n",
       "    </tr>\n",
       "  </tbody>\n",
       "</table>\n",
       "</div>"
      ],
      "text/plain": [
       "   Customer ID  Age  Gender  Purchase History         Browsing Behavior  \\\n",
       "0  Customer ID  Age  Gender  Purchase History         Browsing Behavior   \n",
       "1            1   35    Male              High             Fashion Blogs   \n",
       "2            2   28  Female               Low  Online Shopping Websites   \n",
       "3            3   45    Male            Medium              Social Media   \n",
       "4            4   22  Female              High             Fashion Blogs   \n",
       "\n",
       "   Country  Last Purchased Item  Last Purchased Year  \n",
       "0  Country  Last Purchased Item  Last Purchased Year  \n",
       "1      USA              T-shirt                 2023  \n",
       "2       UK                Jeans                 2022  \n",
       "3   France                Dress                 2023  \n",
       "4  Germany                Shoes                 2023  "
      ]
     },
     "execution_count": 5,
     "metadata": {},
     "output_type": "execute_result"
    }
   ],
   "source": [
    "df_split.head()"
   ]
  },
  {
   "cell_type": "code",
   "execution_count": 6,
   "id": "d71bafdf-7e7d-41ab-9d93-0d75874d85fd",
   "metadata": {},
   "outputs": [],
   "source": [
    "# Drop the 1st row which contains the duplicated header\n",
    "df_split = df_split.drop(0).reset_index(drop=True)"
   ]
  },
  {
   "cell_type": "code",
   "execution_count": 7,
   "id": "6ed01f60-1a4b-4c3f-9df6-948170050d7b",
   "metadata": {},
   "outputs": [
    {
     "data": {
      "text/html": [
       "<div>\n",
       "<style scoped>\n",
       "    .dataframe tbody tr th:only-of-type {\n",
       "        vertical-align: middle;\n",
       "    }\n",
       "\n",
       "    .dataframe tbody tr th {\n",
       "        vertical-align: top;\n",
       "    }\n",
       "\n",
       "    .dataframe thead th {\n",
       "        text-align: right;\n",
       "    }\n",
       "</style>\n",
       "<table border=\"1\" class=\"dataframe\">\n",
       "  <thead>\n",
       "    <tr style=\"text-align: right;\">\n",
       "      <th></th>\n",
       "      <th>Customer ID</th>\n",
       "      <th>Age</th>\n",
       "      <th>Gender</th>\n",
       "      <th>Purchase History</th>\n",
       "      <th>Browsing Behavior</th>\n",
       "      <th>Country</th>\n",
       "      <th>Last Purchased Item</th>\n",
       "      <th>Last Purchased Year</th>\n",
       "    </tr>\n",
       "  </thead>\n",
       "  <tbody>\n",
       "    <tr>\n",
       "      <th>0</th>\n",
       "      <td>1</td>\n",
       "      <td>35</td>\n",
       "      <td>Male</td>\n",
       "      <td>High</td>\n",
       "      <td>Fashion Blogs</td>\n",
       "      <td>USA</td>\n",
       "      <td>T-shirt</td>\n",
       "      <td>2023</td>\n",
       "    </tr>\n",
       "    <tr>\n",
       "      <th>1</th>\n",
       "      <td>2</td>\n",
       "      <td>28</td>\n",
       "      <td>Female</td>\n",
       "      <td>Low</td>\n",
       "      <td>Online Shopping Websites</td>\n",
       "      <td>UK</td>\n",
       "      <td>Jeans</td>\n",
       "      <td>2022</td>\n",
       "    </tr>\n",
       "    <tr>\n",
       "      <th>2</th>\n",
       "      <td>3</td>\n",
       "      <td>45</td>\n",
       "      <td>Male</td>\n",
       "      <td>Medium</td>\n",
       "      <td>Social Media</td>\n",
       "      <td>France</td>\n",
       "      <td>Dress</td>\n",
       "      <td>2023</td>\n",
       "    </tr>\n",
       "    <tr>\n",
       "      <th>3</th>\n",
       "      <td>4</td>\n",
       "      <td>22</td>\n",
       "      <td>Female</td>\n",
       "      <td>High</td>\n",
       "      <td>Fashion Blogs</td>\n",
       "      <td>Germany</td>\n",
       "      <td>Shoes</td>\n",
       "      <td>2023</td>\n",
       "    </tr>\n",
       "    <tr>\n",
       "      <th>4</th>\n",
       "      <td>5</td>\n",
       "      <td>39</td>\n",
       "      <td>Male</td>\n",
       "      <td>Low</td>\n",
       "      <td>Online Shopping Websites</td>\n",
       "      <td>USA</td>\n",
       "      <td>Shirt</td>\n",
       "      <td>2021</td>\n",
       "    </tr>\n",
       "  </tbody>\n",
       "</table>\n",
       "</div>"
      ],
      "text/plain": [
       "  Customer ID Age  Gender Purchase History         Browsing Behavior  Country  \\\n",
       "0           1  35    Male             High             Fashion Blogs      USA   \n",
       "1           2  28  Female              Low  Online Shopping Websites       UK   \n",
       "2           3  45    Male           Medium              Social Media   France   \n",
       "3           4  22  Female             High             Fashion Blogs  Germany   \n",
       "4           5  39    Male              Low  Online Shopping Websites      USA   \n",
       "\n",
       "  Last Purchased Item Last Purchased Year  \n",
       "0             T-shirt                2023  \n",
       "1               Jeans                2022  \n",
       "2               Dress                2023  \n",
       "3               Shoes                2023  \n",
       "4               Shirt                2021  "
      ]
     },
     "execution_count": 7,
     "metadata": {},
     "output_type": "execute_result"
    }
   ],
   "source": [
    "df_split.head()"
   ]
  },
  {
   "cell_type": "code",
   "execution_count": null,
   "id": "1362dd15-b075-408b-80d5-336437e53042",
   "metadata": {},
   "outputs": [],
   "source": []
  },
  {
   "cell_type": "code",
   "execution_count": null,
   "id": "6e28ab68-4ade-4e24-881f-72e944c807d7",
   "metadata": {},
   "outputs": [],
   "source": []
  },
  {
   "cell_type": "markdown",
   "id": "902d093e-3b3f-4a1e-a7d3-367a7af719c2",
   "metadata": {},
   "source": [
    "Step 1: Data Exploration and Understanding"
   ]
  },
  {
   "cell_type": "code",
   "execution_count": 8,
   "id": "05fa4016-77d0-4f52-9cb3-f624b4b567da",
   "metadata": {},
   "outputs": [
    {
     "name": "stdout",
     "output_type": "stream",
     "text": [
      "<class 'pandas.core.frame.DataFrame'>\n",
      "RangeIndex: 200 entries, 0 to 199\n",
      "Data columns (total 8 columns):\n",
      " #   Column               Non-Null Count  Dtype \n",
      "---  ------               --------------  ----- \n",
      " 0   Customer ID          200 non-null    object\n",
      " 1   Age                  200 non-null    object\n",
      " 2   Gender               200 non-null    object\n",
      " 3   Purchase History     200 non-null    object\n",
      " 4   Browsing Behavior    200 non-null    object\n",
      " 5   Country              200 non-null    object\n",
      " 6   Last Purchased Item  200 non-null    object\n",
      " 7   Last Purchased Year  200 non-null    object\n",
      "dtypes: object(8)\n",
      "memory usage: 12.6+ KB\n"
     ]
    }
   ],
   "source": [
    "# Display summary info about the dataset\n",
    "df_split.info()"
   ]
  },
  {
   "cell_type": "code",
   "execution_count": 9,
   "id": "382bb93c-6a7f-42e8-b356-ee5e082c5d55",
   "metadata": {},
   "outputs": [
    {
     "data": {
      "text/plain": [
       "Customer ID            0\n",
       "Age                    0\n",
       "Gender                 0\n",
       "Purchase History       0\n",
       "Browsing Behavior      0\n",
       "Country                0\n",
       "Last Purchased Item    0\n",
       "Last Purchased Year    0\n",
       "dtype: int64"
      ]
     },
     "execution_count": 9,
     "metadata": {},
     "output_type": "execute_result"
    }
   ],
   "source": [
    "# Check for missing values\n",
    "df_split.isnull().sum()"
   ]
  },
  {
   "cell_type": "code",
   "execution_count": 10,
   "id": "d6cda7d1-c611-4df7-86eb-89feafd1d1fa",
   "metadata": {},
   "outputs": [],
   "source": [
    "# Convert columns to appropriate data types\n",
    "df_split['Age'] = df_split['Age'].astype(int)\n",
    "df_split['Last Purchased Year'] = df_split['Last Purchased Year'].astype(int)"
   ]
  },
  {
   "cell_type": "code",
   "execution_count": 11,
   "id": "339a8cf5-675b-464d-a0c0-bd0c92739dd5",
   "metadata": {},
   "outputs": [
    {
     "data": {
      "text/html": [
       "<div>\n",
       "<style scoped>\n",
       "    .dataframe tbody tr th:only-of-type {\n",
       "        vertical-align: middle;\n",
       "    }\n",
       "\n",
       "    .dataframe tbody tr th {\n",
       "        vertical-align: top;\n",
       "    }\n",
       "\n",
       "    .dataframe thead th {\n",
       "        text-align: right;\n",
       "    }\n",
       "</style>\n",
       "<table border=\"1\" class=\"dataframe\">\n",
       "  <thead>\n",
       "    <tr style=\"text-align: right;\">\n",
       "      <th></th>\n",
       "      <th>Age</th>\n",
       "      <th>Last Purchased Year</th>\n",
       "    </tr>\n",
       "  </thead>\n",
       "  <tbody>\n",
       "    <tr>\n",
       "      <th>count</th>\n",
       "      <td>200.000000</td>\n",
       "      <td>200.000000</td>\n",
       "    </tr>\n",
       "    <tr>\n",
       "      <th>mean</th>\n",
       "      <td>40.935000</td>\n",
       "      <td>2022.340000</td>\n",
       "    </tr>\n",
       "    <tr>\n",
       "      <th>std</th>\n",
       "      <td>31.182568</td>\n",
       "      <td>0.746449</td>\n",
       "    </tr>\n",
       "    <tr>\n",
       "      <th>min</th>\n",
       "      <td>0.000000</td>\n",
       "      <td>2021.000000</td>\n",
       "    </tr>\n",
       "    <tr>\n",
       "      <th>25%</th>\n",
       "      <td>16.000000</td>\n",
       "      <td>2022.000000</td>\n",
       "    </tr>\n",
       "    <tr>\n",
       "      <th>50%</th>\n",
       "      <td>32.000000</td>\n",
       "      <td>2023.000000</td>\n",
       "    </tr>\n",
       "    <tr>\n",
       "      <th>75%</th>\n",
       "      <td>63.250000</td>\n",
       "      <td>2023.000000</td>\n",
       "    </tr>\n",
       "    <tr>\n",
       "      <th>max</th>\n",
       "      <td>107.000000</td>\n",
       "      <td>2023.000000</td>\n",
       "    </tr>\n",
       "  </tbody>\n",
       "</table>\n",
       "</div>"
      ],
      "text/plain": [
       "              Age  Last Purchased Year\n",
       "count  200.000000           200.000000\n",
       "mean    40.935000          2022.340000\n",
       "std     31.182568             0.746449\n",
       "min      0.000000          2021.000000\n",
       "25%     16.000000          2022.000000\n",
       "50%     32.000000          2023.000000\n",
       "75%     63.250000          2023.000000\n",
       "max    107.000000          2023.000000"
      ]
     },
     "execution_count": 11,
     "metadata": {},
     "output_type": "execute_result"
    }
   ],
   "source": [
    "# Describe numerical features\n",
    "df_split[['Age', 'Last Purchased Year']].describe()"
   ]
  },
  {
   "cell_type": "code",
   "execution_count": 12,
   "id": "b76bfa71-ccbb-4135-8188-4d00d153a9aa",
   "metadata": {},
   "outputs": [
    {
     "name": "stdout",
     "output_type": "stream",
     "text": [
      "Unique values in Gender: 2\n",
      "Gender\n",
      "Male      100\n",
      "Female    100\n",
      "Name: count, dtype: int64\n",
      "\n",
      "Unique values in Purchase History: 3\n",
      "Purchase History\n",
      "High      67\n",
      "Low       67\n",
      "Medium    66\n",
      "Name: count, dtype: int64\n",
      "\n",
      "Unique values in Browsing Behavior: 3\n",
      "Browsing Behavior\n",
      "Fashion Blogs               67\n",
      "Online Shopping Websites    67\n",
      "Social Media                66\n",
      "Name: count, dtype: int64\n",
      "\n",
      "Unique values in Country: 5\n",
      "Country\n",
      "USA        67\n",
      "UK         34\n",
      "France     34\n",
      "Germany    34\n",
      "Canada     31\n",
      "Name: count, dtype: int64\n",
      "\n",
      "Unique values in Last Purchased Item: 12\n",
      "Last Purchased Item\n",
      "Shirt       33\n",
      "T-shirt     17\n",
      "Jeans       17\n",
      "Dress       17\n",
      "Shoes       17\n",
      "Skirt       17\n",
      "Coat        17\n",
      "Hat         16\n",
      "Scarf       16\n",
      "Sweater     16\n",
      "Bag         16\n",
      "Trousers     1\n",
      "Name: count, dtype: int64\n",
      "\n"
     ]
    }
   ],
   "source": [
    "# Display unique values and counts for categorical features\n",
    "cat_cols = ['Gender', 'Purchase History', 'Browsing Behavior', 'Country', 'Last Purchased Item']\n",
    "for col in cat_cols:\n",
    "    print(f'Unique values in {col}: {df_split[col].nunique()}')\n",
    "    print(df_split[col].value_counts())\n",
    "    print()"
   ]
  },
  {
   "cell_type": "code",
   "execution_count": null,
   "id": "d456013a-20a5-4fe4-a5ef-ac932e648b63",
   "metadata": {},
   "outputs": [],
   "source": []
  },
  {
   "cell_type": "code",
   "execution_count": null,
   "id": "821dc3a1-f031-467b-85f5-d376273c6dc2",
   "metadata": {},
   "outputs": [],
   "source": []
  },
  {
   "cell_type": "markdown",
   "id": "4d22db4e-4833-4e4a-af74-3fc7f6daf7da",
   "metadata": {},
   "source": [
    "Step 2: Data Preprocessing and Step 3: Data Standardization(Done with the help of StandardScaler() inside preprocessing pipeline)"
   ]
  },
  {
   "cell_type": "code",
   "execution_count": 13,
   "id": "d470e15c-6941-43f6-b3fb-228f999c9baf",
   "metadata": {},
   "outputs": [],
   "source": [
    "# Handle missing values\n",
    "df_clean = df_split.dropna().reset_index(drop=True)"
   ]
  },
  {
   "cell_type": "code",
   "execution_count": 15,
   "id": "29dec346-c7a7-41d0-8041-3a783e7fdfbf",
   "metadata": {},
   "outputs": [
    {
     "name": "stdout",
     "output_type": "stream",
     "text": [
      "Preprocessing completed. Shape of the processed data (200, 22)\n"
     ]
    }
   ],
   "source": [
    "# Separate numerical and categorical features for preprocessing\n",
    "numerical_cols = ['Age', 'Last Purchased Year']\n",
    "categorical_cols = ['Gender', 'Purchase History', 'Browsing Behavior', 'Country', 'Last Purchased Item']\n",
    "\n",
    "# Create Preprocessing pipeline\n",
    "preprocessor = ColumnTransformer(\n",
    "    transformers=[\n",
    "        ('num', StandardScaler(), numerical_cols),\n",
    "        ('cat', OneHotEncoder(drop='first'), categorical_cols)\n",
    "    ]\n",
    ")\n",
    "\n",
    "# Apply preprocessing pipeline to the clean data\n",
    "X_processed = preprocessor.fit_transform(df_clean)\n",
    "\n",
    "print('Preprocessing completed. Shape of the processed data', X_processed.shape)"
   ]
  },
  {
   "cell_type": "code",
   "execution_count": null,
   "id": "7c062bbd-f4e0-4e8b-82a9-3976bf6b5995",
   "metadata": {},
   "outputs": [],
   "source": []
  },
  {
   "cell_type": "markdown",
   "id": "9f49e316-4677-4e9e-b27c-162ea41672aa",
   "metadata": {},
   "source": [
    "Step 4: Clustering Algorithm Selection"
   ]
  },
  {
   "cell_type": "raw",
   "id": "0806808f-21f9-4808-ba9c-d5682d6f3b2c",
   "metadata": {},
   "source": [
    "For customer segmentation, K-means clustering is a popular and effective choice, especially when:\n",
    "\n",
    "The dataset is moderately sized (like this one with 200 rows),\n",
    "\n",
    "You expect relatively spherical clusters,\n",
    "\n",
    "Scalability and simplicity are important.\n",
    "\n",
    "Given the dataset and business use case, K-means is recommended as the first choice for its balance of interpretability and performance."
   ]
  },
  {
   "cell_type": "code",
   "execution_count": null,
   "id": "3aaa2ae8-6a19-4860-aff3-9e8e3322dd7a",
   "metadata": {},
   "outputs": [],
   "source": []
  },
  {
   "cell_type": "markdown",
   "id": "4419f0fb-0d80-4f10-a0bd-84d2946d0ab3",
   "metadata": {},
   "source": [
    "Step 5: Clustering and Labeling"
   ]
  },
  {
   "cell_type": "code",
   "execution_count": 18,
   "id": "f027a6f5-9388-4c83-8993-956ade483f22",
   "metadata": {},
   "outputs": [
    {
     "name": "stdout",
     "output_type": "stream",
     "text": [
      "Cluster Centers:\n",
      " [[ 0.9844409   0.28949936  0.88888889  0.91666667  0.          0.91666667\n",
      "   0.          0.          0.          0.91666667  0.02777778  0.\n",
      "   0.          0.          0.47222222  0.02777778  0.02777778  0.\n",
      "   0.          0.41666667  0.02777778  0.02777778]\n",
      " [-0.56876303  0.87002674  0.2195122   0.          0.41463415  0.\n",
      "   0.41463415  0.02439024  0.3902439   0.01219512  0.29268293  0.01219512\n",
      "   0.01219512  0.          0.          0.18292683  0.18292683  0.20731707\n",
      "   0.01219512  0.          0.19512195  0.        ]\n",
      " [ 1.05036397 -1.14850121  0.03030303  0.96969697  0.          0.96969697\n",
      "   0.          0.96969697  0.          0.          0.03030303  0.\n",
      "   0.48484848  0.          0.          0.          0.03030303  0.\n",
      "   0.48484848  0.          0.          0.        ]\n",
      " [-0.47884316 -0.89517612  1.          0.04081633  0.65306122  0.04081633\n",
      "   0.65306122  0.          0.04081633  0.          0.83673469  0.32653061\n",
      "   0.          0.32653061  0.          0.          0.32653061  0.\n",
      "   0.          0.02040816  0.          0.        ]]\n",
      "Inertia: 414.82186745841136\n",
      "Number of Iterations: 5\n",
      "  Customer ID  Age  Gender Purchase History         Browsing Behavior  \\\n",
      "0           1   35    Male             High             Fashion Blogs   \n",
      "1           2   28  Female              Low  Online Shopping Websites   \n",
      "2           3   45    Male           Medium              Social Media   \n",
      "3           4   22  Female             High             Fashion Blogs   \n",
      "4           5   39    Male              Low  Online Shopping Websites   \n",
      "\n",
      "   Country Last Purchased Item  Last Purchased Year  Cluster  \n",
      "0      USA             T-shirt                 2023        1  \n",
      "1       UK               Jeans                 2022        0  \n",
      "2   France               Dress                 2023        1  \n",
      "3  Germany               Shoes                 2023        1  \n",
      "4      USA               Shirt                 2021        3  \n"
     ]
    }
   ],
   "source": [
    "# Set the number of clusters\n",
    "n_clusters = 4\n",
    "\n",
    "# Perform clustering on the preprocessed data\n",
    "kmeans = KMeans(\n",
    "    n_clusters = n_clusters,\n",
    "    init = 'k-means++', # Initialization method\n",
    "    n_init = 10,        # Number of times the k-means algorithm will be run\n",
    "    max_iter = 300,     # Maximum number of iterations\n",
    "    tol = 1e-4,         # Tolerance to declare convergence\n",
    "    random_state=42     # For reproducibility\n",
    ")\n",
    "\n",
    "# Fit the preprocessed data\n",
    "labels = kmeans.fit_predict(X_processed)\n",
    "\n",
    "# Add cluster labels to the dataframe\n",
    "df_clean['Cluster'] = labels\n",
    "\n",
    "# Display cluster centers and inertia(Sum of squared distances)\n",
    "print('Cluster Centers:\\n',kmeans.cluster_centers_)\n",
    "print('Inertia:',kmeans.inertia_)\n",
    "print('Number of Iterations:', kmeans.n_iter_)\n",
    "\n",
    "# labeled data with original and processed features\n",
    "print(df_clean.head())"
   ]
  },
  {
   "cell_type": "code",
   "execution_count": null,
   "id": "38ddab6a-5f2a-44a5-944f-98d7a00cee7f",
   "metadata": {},
   "outputs": [],
   "source": []
  },
  {
   "cell_type": "code",
   "execution_count": null,
   "id": "9b576580-ca45-466b-a6ea-43acad3ec2f9",
   "metadata": {},
   "outputs": [],
   "source": []
  },
  {
   "cell_type": "markdown",
   "id": "46fec774-a78f-4100-b1c4-19c3740c4703",
   "metadata": {},
   "source": [
    "Step 6: Cluster Analysis"
   ]
  },
  {
   "cell_type": "code",
   "execution_count": 19,
   "id": "ebbca64e-cfcf-495a-ab57-b845b3a6ac53",
   "metadata": {},
   "outputs": [
    {
     "name": "stdout",
     "output_type": "stream",
     "text": [
      "               Age                      Gender  \\\n",
      "Cluster                                          \n",
      "0        71.555556   {'Male': 32, 'Female': 4}   \n",
      "1        23.243902  {'Female': 64, 'Male': 18}   \n",
      "2        73.606061   {'Female': 32, 'Male': 1}   \n",
      "3        26.040816                {'Male': 49}   \n",
      "\n",
      "                             Purchase History  \\\n",
      "Cluster                                         \n",
      "0                      {'Low': 33, 'High': 3}   \n",
      "1                  {'High': 48, 'Medium': 34}   \n",
      "2                      {'Low': 32, 'High': 1}   \n",
      "3        {'Medium': 32, 'High': 15, 'Low': 2}   \n",
      "\n",
      "                                         Browsing Behavior  \\\n",
      "Cluster                                                      \n",
      "0        {'Online Shopping Websites': 33, 'Fashion Blog...   \n",
      "1                {'Fashion Blogs': 48, 'Social Media': 34}   \n",
      "2        {'Online Shopping Websites': 32, 'Fashion Blog...   \n",
      "3        {'Social Media': 32, 'Fashion Blogs': 15, 'Onl...   \n",
      "\n",
      "                                                   Country  \\\n",
      "Cluster                                                      \n",
      "0                        {'UK': 33, 'Canada': 2, 'USA': 1}   \n",
      "1        {'Germany': 32, 'USA': 24, 'Canada': 23, 'Fran...   \n",
      "2                                 {'France': 32, 'USA': 1}   \n",
      "3                   {'USA': 41, 'Canada': 6, 'Germany': 2}   \n",
      "\n",
      "                                       Last Purchased Item  \\\n",
      "Cluster                                                      \n",
      "0        {'Jeans': 17, 'Sweater': 15, 'Trousers': 1, 'S...   \n",
      "1        {'Shoes': 17, 'T-shirt': 16, 'Bag': 16, 'Scarf...   \n",
      "2                   {'Dress': 16, 'Skirt': 16, 'Shirt': 1}   \n",
      "3        {'Shirt': 16, 'Hat': 16, 'Coat': 16, 'Sweater'...   \n",
      "\n",
      "         Last Purchased Year  \n",
      "Cluster                       \n",
      "0                2022.555556  \n",
      "1                2022.987805  \n",
      "2                2021.484848  \n",
      "3                2021.673469  \n"
     ]
    }
   ],
   "source": [
    "# Group data by cluster and compute cluster wise statistics\n",
    "cluster_summary = df_clean.groupby('Cluster').agg({\n",
    "    'Age': 'mean',\n",
    "    'Gender': lambda x: x.value_counts().to_dict(),\n",
    "    'Purchase History': lambda x: x.value_counts().to_dict(),\n",
    "    'Browsing Behavior': lambda x: x.value_counts().to_dict(),\n",
    "    'Country': lambda x: x.value_counts().to_dict(),\n",
    "    'Last Purchased Item': lambda x: x.value_counts().to_dict(),\n",
    "    'Last Purchased Year': 'mean'\n",
    "})\n",
    "\n",
    "# Display summary statistics for each cluster\n",
    "print(cluster_summary)"
   ]
  },
  {
   "cell_type": "code",
   "execution_count": 22,
   "id": "bd80d22f-906c-4aa6-b453-12e449f6b56e",
   "metadata": {},
   "outputs": [
    {
     "name": "stdout",
     "output_type": "stream",
     "text": [
      "\n",
      " Most common Gender in each cluster:\n",
      "Cluster\n",
      "0      Male\n",
      "1    Female\n",
      "2    Female\n",
      "3      Male\n",
      "Name: Gender, dtype: object\n",
      "\n",
      " Most common Purchase History in each cluster:\n",
      "Cluster\n",
      "0       Low\n",
      "1      High\n",
      "2       Low\n",
      "3    Medium\n",
      "Name: Purchase History, dtype: object\n",
      "\n",
      " Most common Browsing Behavior in each cluster:\n",
      "Cluster\n",
      "0    Online Shopping Websites\n",
      "1               Fashion Blogs\n",
      "2    Online Shopping Websites\n",
      "3                Social Media\n",
      "Name: Browsing Behavior, dtype: object\n",
      "\n",
      " Most common Country in each cluster:\n",
      "Cluster\n",
      "0         UK\n",
      "1    Germany\n",
      "2     France\n",
      "3        USA\n",
      "Name: Country, dtype: object\n",
      "\n",
      " Most common Last Purchased Item in each cluster:\n",
      "Cluster\n",
      "0    Jeans\n",
      "1    Shoes\n",
      "2    Dress\n",
      "3     Coat\n",
      "Name: Last Purchased Item, dtype: object\n"
     ]
    }
   ],
   "source": [
    "# Common value per cluster for categorical columns\n",
    "for col in ['Gender', 'Purchase History', 'Browsing Behavior', 'Country', 'Last Purchased Item']:\n",
    "    print(f'\\n Most common {col} in each cluster:')\n",
    "    print(df_clean.groupby('Cluster')[col].agg(lambda x: x.mode().values[0]))"
   ]
  },
  {
   "cell_type": "code",
   "execution_count": null,
   "id": "3528c107-986b-4363-9b28-6691baa619f9",
   "metadata": {},
   "outputs": [],
   "source": []
  },
  {
   "cell_type": "code",
   "execution_count": null,
   "id": "66158646-a2e7-4416-a577-623a26ec72b3",
   "metadata": {},
   "outputs": [],
   "source": []
  },
  {
   "cell_type": "markdown",
   "id": "709457a0-4615-497e-95b0-268ad5dadea1",
   "metadata": {},
   "source": [
    "Step 7: Actionable Recommendations"
   ]
  },
  {
   "cell_type": "raw",
   "id": "ea195216-bc0e-4fa1-b367-8d00f445065f",
   "metadata": {},
   "source": [
    "Based on typical cluster characteristics from customer segmentation in fashion retail, here are my actionable marketing recommendations for each customer segment:\n",
    "\n",
    "1. High Purchase History & Fashion Blog Followers (Young Adults):\n",
    "\n",
    "Strategy: Promote new arrivals and exclusive fashion content via newsletters or fashion blogs.\n",
    "\n",
    "Engagement: Offer loyalty rewards for frequent purchases and early access to limited editions.\n",
    "\n",
    "Retention: Use influencer collaborations and seasonal style guides to maintain interest.\n",
    "\n",
    "2. Low Purchase History & Online Shopping Website Browsers (Budget-Conscious):\n",
    "\n",
    "Strategy: Target with personalized discount offers and bundle deals.\n",
    "\n",
    "Engagement: Simplify the shopping journey with easy navigation and product recommendations.\n",
    "\n",
    "Retention: Provide flash sales and discount alerts via email or app notifications.\n",
    "\n",
    "3. Medium Purchase History & Social Media Followers (Trend Seekers).\n",
    "\n",
    "Strategy: Use social media campaigns highlighting trending items and user-generated content.\n",
    "\n",
    "Engagement: Encourage reviews and sharing on social platforms with hashtag campaigns.\n",
    "\n",
    "Retention: Run contests or giveaways to increase brand interaction and loyalty.\n",
    "\n",
    "4. Cluster with Specific Regional Preferences (e.g., Country-based Preferences):\n",
    "\n",
    "Strategy: Localize marketing content with culturally relevant styles and promotions.\n",
    "\n",
    "Engagement: Collaborate with local influencers and tailor inventory to regional trends.\n",
    "\n",
    "Retention: Host country-specific events or pop-ups to build community presence.\n",
    "\n",
    "These targeted strategies leverage the unique behaviors and preferences discovered through clustering to improve marketing efficiency and customer experience."
   ]
  },
  {
   "cell_type": "code",
   "execution_count": null,
   "id": "05a6c1a2-c646-49c5-a52b-aa025b35873d",
   "metadata": {},
   "outputs": [],
   "source": []
  },
  {
   "cell_type": "code",
   "execution_count": null,
   "id": "4425a6da-8d72-4538-8a83-6bdd4f12fa73",
   "metadata": {},
   "outputs": [],
   "source": []
  },
  {
   "cell_type": "markdown",
   "id": "fa64f58d-cee8-479a-843c-75797bb26ce7",
   "metadata": {},
   "source": [
    "Step 8: Data Visualization"
   ]
  },
  {
   "cell_type": "code",
   "execution_count": 23,
   "id": "72c36afe-d732-446d-af4a-1f4ff2ac79af",
   "metadata": {},
   "outputs": [],
   "source": [
    "from sklearn.decomposition import PCA"
   ]
  },
  {
   "cell_type": "code",
   "execution_count": 24,
   "id": "3c8e430e-107f-45f8-b998-ef8414675c2d",
   "metadata": {},
   "outputs": [],
   "source": [
    "# Reduce dimensionality of preprocessed data for 2D visualization\n",
    "pca = PCA(n_components=2)\n",
    "components = pca.fit_transform(X_processed.toarray() if hasattr(X_processed, 'toarray') else X_processed)\n",
    "\n",
    "# Add PCA components to the dataframe\n",
    "df_clean['PCA1'] = components[:, 0]\n",
    "df_clean['PCA2'] = components[:, 1]"
   ]
  },
  {
   "cell_type": "code",
   "execution_count": 26,
   "id": "26d0fae9-115e-4f37-8fd9-c2178efa6f07",
   "metadata": {},
   "outputs": [
    {
     "data": {
      "image/png": "[encoded data removed]",
      "text/plain": [
       "<Figure size 1000x700 with 1 Axes>"
      ]
     },
     "metadata": {},
     "output_type": "display_data"
    }
   ],
   "source": [
    "# Scatter Plot for clusters in PCA space\n",
    "plt.figure(figsize=(10, 7))\n",
    "sns.scatterplot(x='PCA1', y='PCA2', hue='Cluster', data=df_clean, palette='tab10', s=80)\n",
    "plt.title('Customer Segment Visualization using PCA')\n",
    "plt.show()"
   ]
  },
  {
   "cell_type": "code",
   "execution_count": null,
   "id": "1d0aff25-ed9d-4b3d-b394-ec484e0de129",
   "metadata": {},
   "outputs": [],
   "source": []
  },
  {
   "cell_type": "code",
   "execution_count": 30,
   "id": "26e33386-5429-4d44-8180-2e143d1f36c3",
   "metadata": {},
   "outputs": [
    {
     "data": {
      "image/png": "[encoded data removed]",
      "text/plain": [
       "<Figure size 800x500 with 1 Axes>"
      ]
     },
     "metadata": {},
     "output_type": "display_data"
    }
   ],
   "source": [
    "# Bar plot for number of customers in each cluster\n",
    "plt.figure(figsize=(8, 5))\n",
    "sns.countplot(x='Cluster', hue='Cluster', data=df_clean, palette='tab10')\n",
    "plt.title('Number of Customers in each Cluster')\n",
    "plt.show()"
   ]
  },
  {
   "cell_type": "code",
   "execution_count": null,
   "id": "ae3671f4-1631-4ba3-b99e-4e5fb05ae733",
   "metadata": {},
   "outputs": [],
   "source": []
  },
  {
   "cell_type": "code",
   "execution_count": 28,
   "id": "f7302ba6-f8e0-44cd-a6a7-d10f099650d1",
   "metadata": {},
   "outputs": [
    {
     "data": {
      "image/png": "[encoded data removed]",
      "text/plain": [
       "<Figure size 1200x600 with 1 Axes>"
      ]
     },
     "metadata": {},
     "output_type": "display_data"
    }
   ],
   "source": [
    "# Bar plot for purchase history distribution per cluster\n",
    "plt.figure(figsize=(12, 6))\n",
    "sns.countplot(x='Purchase History', hue='Cluster', data=df_clean)\n",
    "plt.title('Purchase History Distribution per Cluster')\n",
    "plt.show()"
   ]
  },
  {
   "cell_type": "code",
   "execution_count": null,
   "id": "d974fa41-5d6d-402e-a63e-a1c0b91918bf",
   "metadata": {},
   "outputs": [],
   "source": []
  },
  {
   "cell_type": "code",
   "execution_count": null,
   "id": "76bcb70f-4508-483b-b08f-5faae62fbe86",
   "metadata": {},
   "outputs": [],
   "source": []
  },
  {
   "cell_type": "code",
   "execution_count": null,
   "id": "c82c972b-104e-4bb9-a688-c5310129def0",
   "metadata": {},
   "outputs": [],
   "source": []
  },
  {
   "cell_type": "code",
   "execution_count": null,
   "id": "4d858e1c-bb73-49f1-9d9c-dd1ca6a0511f",
   "metadata": {},
   "outputs": [],
   "source": []
  },
  {
   "cell_type": "code",
   "execution_count": null,
   "id": "139c30ce-5013-4e08-b66c-efbbdccf5a8b",
   "metadata": {},
   "outputs": [],
   "source": []
  },
  {
   "cell_type": "code",
   "execution_count": null,
   "id": "be0d2f8f-d2eb-4e16-8ea3-79ae229a47fd",
   "metadata": {},
   "outputs": [],
   "source": []
  },
  {
   "cell_type": "code",
   "execution_count": null,
   "id": "eb72aa72-0f15-4828-b34a-ec971de6458e",
   "metadata": {},
   "outputs": [],
   "source": []
  },
  {
   "cell_type": "code",
   "execution_count": null,
   "id": "688553ef-bbb1-4a64-ac58-5129d753cd7d",
   "metadata": {},
   "outputs": [],
   "source": []
  },
  {
   "cell_type": "code",
   "execution_count": null,
   "id": "0bedc048-e733-4bff-8128-566c90041d65",
   "metadata": {},
   "outputs": [],
   "source": []
  },
  {
   "cell_type": "code",
   "execution_count": null,
   "id": "d2b189f1-5e38-4f3e-8e59-3e77e2be6b44",
   "metadata": {},
   "outputs": [],
   "source": []
  }
 ],
 "metadata": {
  "kernelspec": {
   "display_name": "Python 3 (ipykernel)",
   "language": "python",
   "name": "python3"
  },
  "language_info": {
   "codemirror_mode": {
    "name": "ipython",
    "version": 3
   },
   "file_extension": ".py",
   "mimetype": "text/x-python",
   "name": "python",
   "nbconvert_exporter": "python",
   "pygments_lexer": "ipython3",
   "version": "3.11.7"
  }
 },
 "nbformat": 4,
 "nbformat_minor": 5
}
